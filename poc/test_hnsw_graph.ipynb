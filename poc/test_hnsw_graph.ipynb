{
 "cells": [
  {
   "cell_type": "markdown",
   "metadata": {},
   "source": [
    "### Initialize poc"
   ]
  },
  {
   "cell_type": "code",
   "execution_count": 1,
   "metadata": {},
   "outputs": [],
   "source": [
    "import os\n",
    "import sys\n",
    "import logging\n",
    "import numpy as np\n",
    "import faiss\n",
    "import json\n",
    "from openai import AzureOpenAI\n",
    "from dotenv import load_dotenv\n",
    "import hnsw_utils \n",
    "\n",
    "load_dotenv()\n",
    "\n",
    "logging.basicConfig(\n",
    "    level=logging.INFO,\n",
    "    format=\"%(asctime)s [%(levelname)s] %(message)s\",\n",
    "    handlers=[logging.StreamHandler(sys.stdout)],\n",
    ")\n"
   ]
  },
  {
   "cell_type": "markdown",
   "metadata": {},
   "source": [
    "### Load vectors from database"
   ]
  },
  {
   "cell_type": "code",
   "execution_count": 2,
   "metadata": {},
   "outputs": [
    {
     "name": "stdout",
     "output_type": "stream",
     "text": [
      "2024-04-27 20:30:24,562 [INFO] Loaded 10000 rows, total rows 10000, total memory footprint 58 MB\n",
      "2024-04-27 20:30:26,921 [INFO] Loaded 10000 rows, total rows 20000, total memory footprint 117 MB\n",
      "2024-04-27 20:30:28,009 [INFO] Loaded 5000 rows, total rows 25000, total memory footprint 146 MB\n",
      "2024-04-27 20:30:28,064 [INFO] Done\n"
     ]
    }
   ],
   "source": [
    "ids, vectors = hnsw_utils.load_vectors_from_db(\n",
    "    table_name=\"dbo.wikipedia_articles_title_embeddings_native\",\n",
    "    id_column=\"id\",\n",
    "    vector_column=\"title_vector_native\",\n",
    "    vector_size=1536,\n",
    "    top_n=25000\n",
    ")"
   ]
  },
  {
   "cell_type": "markdown",
   "metadata": {},
   "source": [
    "### Create index"
   ]
  },
  {
   "cell_type": "code",
   "execution_count": 3,
   "metadata": {},
   "outputs": [
    {
     "data": {
      "text/plain": [
       "{'type': faiss.swigfaiss_avx2.IndexHNSWFlat, 'metric': 0, 'efSearch': 16}"
      ]
     },
     "execution_count": 3,
     "metadata": {},
     "output_type": "execute_result"
    }
   ],
   "source": [
    "nvp = np.asarray(vectors)\n",
    "d = nvp.shape[1]\n",
    "index = faiss.index_factory(d, \"HNSW\", faiss.METRIC_INNER_PRODUCT)  \n",
    "index.add(nvp)\n",
    "hnsw = index.hnsw\n",
    "{\"type\":type(index), \"metric\":index.metric_type, \"efSearch\":index.hnsw.efSearch}"
   ]
  },
  {
   "cell_type": "markdown",
   "metadata": {},
   "source": [
    "### Test the index\n",
    "\n",
    "Use a reference vector to search for the nearest neighbors"
   ]
  },
  {
   "cell_type": "code",
   "execution_count": 4,
   "metadata": {},
   "outputs": [],
   "source": [
    "qp = np.where(ids == 11193)[0][0]\n",
    "qv = np.asarray([nvp[qp]])    \n",
    "dist, idx = index.search(qv, 10)"
   ]
  },
  {
   "cell_type": "markdown",
   "metadata": {},
   "source": [
    "List vectors (by their internal id) that are close to the reference vector"
   ]
  },
  {
   "cell_type": "code",
   "execution_count": 5,
   "metadata": {},
   "outputs": [
    {
     "data": {
      "text/plain": [
       "array([ 3692, 20306,  7434,  3426,  2162, 16764,  6720, 10448,  3591,\n",
       "        3706])"
      ]
     },
     "execution_count": 5,
     "metadata": {},
     "output_type": "execute_result"
    }
   ],
   "source": [
    "idx[0]"
   ]
  },
  {
   "cell_type": "markdown",
   "metadata": {},
   "source": [
    "List vectors by their *database* ids"
   ]
  },
  {
   "cell_type": "code",
   "execution_count": 6,
   "metadata": {},
   "outputs": [
    {
     "data": {
      "text/plain": [
       "array([11193, 78034, 23984, 10193,  7342, 63964, 21230, 37075, 10915,\n",
       "       11219])"
      ]
     },
     "execution_count": 6,
     "metadata": {},
     "output_type": "execute_result"
    }
   ],
   "source": [
    "ids[idx[0]]"
   ]
  },
  {
   "cell_type": "markdown",
   "metadata": {},
   "source": [
    "List the vectors by their database id along with the distances to the reference vector"
   ]
  },
  {
   "cell_type": "code",
   "execution_count": 7,
   "metadata": {},
   "outputs": [
    {
     "data": {
      "text/plain": [
       "'{\"11193\": 0.9999999403953552, \"78034\": 0.8929316997528076, \"23984\": 0.883037805557251, \"10193\": 0.8578137159347534, \"7342\": 0.8558316826820374, \"63964\": 0.8552420139312744, \"21230\": 0.8529642820358276, \"37075\": 0.8517205715179443, \"10915\": 0.8511642813682556, \"11219\": 0.8493160605430603}'"
      ]
     },
     "execution_count": 7,
     "metadata": {},
     "output_type": "execute_result"
    }
   ],
   "source": [
    "r = dict(zip([str(ids[i]) for i in idx[0]], dist[0]))\n",
    "json.dumps(r, cls=hnsw_utils.NpEncoder)"
   ]
  },
  {
   "cell_type": "markdown",
   "metadata": {},
   "source": [
    "Return max graph level"
   ]
  },
  {
   "cell_type": "code",
   "execution_count": 8,
   "metadata": {},
   "outputs": [
    {
     "data": {
      "text/plain": [
       "4"
      ]
     },
     "execution_count": 8,
     "metadata": {},
     "output_type": "execute_result"
    }
   ],
   "source": [
    "levels = faiss.vector_to_array(hnsw.levels)\n",
    "levels.max()"
   ]
  },
  {
   "cell_type": "markdown",
   "metadata": {},
   "source": [
    "Show content (as vector internal ids) of a specific graph level"
   ]
  },
  {
   "cell_type": "code",
   "execution_count": 9,
   "metadata": {},
   "outputs": [
    {
     "data": {
      "text/plain": [
       "array([12586, 20288])"
      ]
     },
     "execution_count": 9,
     "metadata": {},
     "output_type": "execute_result"
    }
   ],
   "source": [
    "g = np.where(levels == 4)[0]\n",
    "g"
   ]
  },
  {
   "cell_type": "markdown",
   "metadata": {},
   "source": [
    "Show database ids of vectors in a specific graph level"
   ]
  },
  {
   "cell_type": "code",
   "execution_count": 10,
   "metadata": {},
   "outputs": [
    {
     "data": {
      "text/plain": [
       "array([46308, 77943])"
      ]
     },
     "execution_count": 10,
     "metadata": {},
     "output_type": "execute_result"
    }
   ],
   "source": [
    "ids[[v for v in g if v != -1]]"
   ]
  },
  {
   "cell_type": "markdown",
   "metadata": {},
   "source": [
    "Show all the neighbors of a specific vector, at any level"
   ]
  },
  {
   "cell_type": "code",
   "execution_count": 11,
   "metadata": {},
   "outputs": [
    {
     "data": {
      "text/plain": [
       "[array([ 6057, 17442,  6775, 24354, 22156, 22469, 16636, 12559, 21858,\n",
       "        21038, 20919,  3038,  6704, 21035,  7736,   598, 11301, 24053,\n",
       "        23847, 22605, 23534, 16097, 17455, 23985, 14228, 20942, 21851,\n",
       "        23994, 15303, 22132, 22864, 22067, 10128,  2266,    -1,    -1,\n",
       "           -1,    -1,    -1,    -1,    -1,    -1,    -1,    -1,    -1,\n",
       "           -1,    -1,    -1,    -1,    -1,    -1,    -1,    -1,    -1,\n",
       "           -1,    -1,    -1,    -1,    -1,    -1,    -1,    -1,    -1,\n",
       "           -1], dtype=int32),\n",
       " array([20502, 23475,  9991,  2627, 13815,  6057,  1988,  7830,    -1,\n",
       "           -1,    -1,    -1,    -1,    -1,    -1,    -1,    -1,    -1,\n",
       "           -1,    -1,    -1,    -1,    -1,    -1,    -1,    -1,    -1,\n",
       "           -1,    -1,    -1,    -1,    -1], dtype=int32),\n",
       " array([20288,   592,  3913,  8169, 23593,  3123, 11537,  5033, 10189,\n",
       "        18411, 20513, 22509,  1751,  8947, 13212, 19782, 24582, 11548,\n",
       "           -1,    -1,    -1,    -1,    -1,    -1,    -1,    -1,    -1,\n",
       "           -1,    -1,    -1,    -1,    -1], dtype=int32),\n",
       " array([20288,    -1,    -1,    -1,    -1,    -1,    -1,    -1,    -1,\n",
       "           -1,    -1,    -1,    -1,    -1,    -1,    -1,    -1,    -1,\n",
       "           -1,    -1,    -1,    -1,    -1,    -1,    -1,    -1,    -1,\n",
       "           -1,    -1,    -1,    -1,    -1], dtype=int32)]"
      ]
     },
     "execution_count": 11,
     "metadata": {},
     "output_type": "execute_result"
    }
   ],
   "source": [
    "neighbors = hnsw_utils.get_hnsw_links(hnsw, 12586)\n",
    "neighbors"
   ]
  },
  {
   "cell_type": "markdown",
   "metadata": {},
   "source": [
    "Save graph back to the database"
   ]
  },
  {
   "cell_type": "code",
   "execution_count": 12,
   "metadata": {},
   "outputs": [
    {
     "name": "stdout",
     "output_type": "stream",
     "text": [
      "2024-04-27 20:30:57,017 [INFO] Inserting 10007 records...\n",
      "2024-04-27 20:30:57,329 [INFO] Inserting 10009 records...\n",
      "2024-04-27 20:30:57,501 [INFO] Inserting 10040 records...\n",
      "2024-04-27 20:30:57,799 [INFO] Inserting 10038 records...\n",
      "2024-04-27 20:30:57,990 [INFO] Inserting 10008 records...\n",
      "2024-04-27 20:30:58,197 [INFO] Inserting 10016 records...\n",
      "2024-04-27 20:30:58,416 [INFO] Inserting 10011 records...\n",
      "2024-04-27 20:30:58,631 [INFO] Inserting 10010 records...\n",
      "2024-04-27 20:30:58,851 [INFO] Inserting 10021 records...\n",
      "2024-04-27 20:30:59,033 [INFO] Inserting 10037 records...\n",
      "2024-04-27 20:30:59,213 [INFO] Inserting 10047 records...\n",
      "2024-04-27 20:30:59,396 [INFO] Inserting 10019 records...\n",
      "2024-04-27 20:30:59,571 [INFO] Inserting 10062 records...\n",
      "2024-04-27 20:30:59,750 [INFO] Inserting 10017 records...\n",
      "2024-04-27 20:30:59,927 [INFO] Inserting 10028 records...\n",
      "2024-04-27 20:31:00,124 [INFO] Inserting 10036 records...\n",
      "2024-04-27 20:31:00,306 [INFO] Inserting 10017 records...\n",
      "2024-04-27 20:31:00,548 [INFO] Inserting 10013 records...\n",
      "2024-04-27 20:31:00,873 [INFO] Inserting 10048 records...\n",
      "2024-04-27 20:31:01,047 [INFO] Inserting 10020 records...\n",
      "2024-04-27 20:31:01,227 [INFO] Inserting 10036 records...\n",
      "2024-04-27 20:31:01,411 [INFO] Inserting 10035 records...\n",
      "2024-04-27 20:31:01,582 [INFO] Inserting 10008 records...\n",
      "2024-04-27 20:31:01,766 [INFO] Inserting 10017 records...\n",
      "2024-04-27 20:31:01,945 [INFO] Inserting 10002 records...\n",
      "2024-04-27 20:31:02,116 [INFO] Inserting 10029 records...\n",
      "2024-04-27 20:31:02,302 [INFO] Inserting 10036 records...\n",
      "2024-04-27 20:31:02,489 [INFO] Inserting 10004 records...\n",
      "2024-04-27 20:31:02,719 [INFO] Inserting 10005 records...\n",
      "2024-04-27 20:31:02,899 [INFO] Inserting 10039 records...\n",
      "2024-04-27 20:31:03,077 [INFO] Inserting 10002 records...\n",
      "2024-04-27 20:31:03,263 [INFO] Inserting 10028 records...\n",
      "2024-04-27 20:31:03,439 [INFO] Inserting 10024 records...\n",
      "2024-04-27 20:31:03,627 [INFO] Inserting 10038 records...\n",
      "2024-04-27 20:31:03,823 [INFO] Inserting 10007 records...\n",
      "2024-04-27 20:31:04,058 [INFO] Inserting 10029 records...\n",
      "2024-04-27 20:31:04,293 [INFO] Inserting 10009 records...\n",
      "2024-04-27 20:31:04,465 [INFO] Inserting 10005 records...\n",
      "2024-04-27 20:31:04,655 [INFO] Inserting 10039 records...\n",
      "2024-04-27 20:31:04,905 [INFO] Inserting 10013 records...\n",
      "2024-04-27 20:31:05,091 [INFO] Inserting 10002 records...\n",
      "2024-04-27 20:31:05,268 [INFO] Inserting 10008 records...\n",
      "2024-04-27 20:31:05,599 [INFO] Inserting 10039 records...\n",
      "2024-04-27 20:31:05,792 [INFO] Inserting 10003 records...\n",
      "2024-04-27 20:31:05,995 [INFO] Inserting 10032 records...\n",
      "2024-04-27 20:31:06,198 [INFO] Inserting 10038 records...\n",
      "2024-04-27 20:31:06,402 [INFO] Inserting 10001 records...\n",
      "2024-04-27 20:31:06,572 [INFO] Inserting 10004 records...\n",
      "2024-04-27 20:31:06,806 [INFO] Inserting 10057 records...\n",
      "2024-04-27 20:31:07,008 [INFO] Inserting 10002 records...\n",
      "2024-04-27 20:31:07,274 [INFO] Inserting 10009 records...\n",
      "2024-04-27 20:31:07,494 [INFO] Inserting 10042 records...\n",
      "2024-04-27 20:31:07,691 [INFO] Inserting 10002 records...\n",
      "2024-04-27 20:31:07,939 [INFO] Inserting 10001 records...\n",
      "2024-04-27 20:31:08,219 [INFO] Inserting 10004 records...\n",
      "2024-04-27 20:31:08,476 [INFO] Inserting 10008 records...\n",
      "2024-04-27 20:31:08,696 [INFO] Inserting 10035 records...\n",
      "2024-04-27 20:31:08,910 [INFO] Inserting 10019 records...\n",
      "2024-04-27 20:31:09,116 [INFO] Inserting 10028 records...\n",
      "2024-04-27 20:31:09,385 [INFO] Inserting 10008 records...\n",
      "2024-04-27 20:31:09,617 [INFO] Inserting 10032 records...\n",
      "2024-04-27 20:31:09,875 [INFO] Inserting 10023 records...\n",
      "2024-04-27 20:31:10,165 [INFO] Inserting 10037 records...\n",
      "2024-04-27 20:31:10,349 [INFO] Inserting 10014 records...\n",
      "2024-04-27 20:31:10,537 [INFO] Inserting 10003 records...\n",
      "2024-04-27 20:31:10,825 [INFO] Inserting 10023 records...\n",
      "2024-04-27 20:31:11,068 [INFO] Inserting 10028 records...\n",
      "2024-04-27 20:31:11,256 [INFO] Inserting 10027 records...\n",
      "2024-04-27 20:31:11,466 [INFO] Inserting 10032 records...\n",
      "2024-04-27 20:31:11,706 [INFO] Inserting 10022 records...\n",
      "2024-04-27 20:31:11,905 [INFO] Inserting 10040 records...\n",
      "2024-04-27 20:31:12,098 [INFO] Inserting 10015 records...\n",
      "2024-04-27 20:31:12,345 [INFO] Inserting 10021 records...\n",
      "2024-04-27 20:31:12,577 [INFO] Inserting 10023 records...\n",
      "2024-04-27 20:31:12,814 [INFO] Inserting 10001 records...\n",
      "2024-04-27 20:31:13,007 [INFO] Inserting 10050 records...\n",
      "2024-04-27 20:31:13,208 [INFO] Inserting 10005 records...\n",
      "2024-04-27 20:31:13,404 [INFO] Inserting 10043 records...\n",
      "2024-04-27 20:31:13,586 [INFO] Inserting 10021 records...\n",
      "2024-04-27 20:31:13,781 [INFO] Inserting 10014 records...\n",
      "2024-04-27 20:31:14,005 [INFO] Inserting 10031 records...\n",
      "2024-04-27 20:31:14,202 [INFO] Inserting 10048 records...\n",
      "2024-04-27 20:31:14,388 [INFO] Inserting 10020 records...\n",
      "2024-04-27 20:31:14,633 [INFO] Inserting 10021 records...\n",
      "2024-04-27 20:31:14,819 [INFO] Inserting 10000 records...\n",
      "2024-04-27 20:31:15,024 [INFO] Inserting 10030 records...\n",
      "2024-04-27 20:31:15,347 [INFO] Inserting 10016 records...\n",
      "2024-04-27 20:31:15,618 [INFO] Inserting 10017 records...\n",
      "2024-04-27 20:31:15,818 [INFO] Inserting 10026 records...\n",
      "2024-04-27 20:31:16,084 [INFO] Inserting 10032 records...\n",
      "2024-04-27 20:31:16,292 [INFO] Inserting 10031 records...\n",
      "2024-04-27 20:31:16,490 [INFO] Inserting 10033 records...\n",
      "2024-04-27 20:31:16,686 [INFO] Inserting 10038 records...\n",
      "2024-04-27 20:31:16,888 [INFO] Inserting 10014 records...\n",
      "2024-04-27 20:31:17,106 [INFO] Inserting 10061 records...\n",
      "2024-04-27 20:31:17,297 [INFO] Inserting 10022 records...\n",
      "2024-04-27 20:31:17,485 [INFO] Inserting 10060 records...\n",
      "2024-04-27 20:31:17,667 [INFO] Inserting 10028 records...\n",
      "2024-04-27 20:31:17,867 [INFO] Inserting 10014 records...\n",
      "2024-04-27 20:31:18,055 [INFO] Inserting 10028 records...\n",
      "2024-04-27 20:31:18,279 [INFO] Inserting 10004 records...\n",
      "2024-04-27 20:31:18,497 [INFO] Inserting 10003 records...\n",
      "2024-04-27 20:31:18,696 [INFO] Inserting 10015 records...\n",
      "2024-04-27 20:31:18,878 [INFO] Inserting 10030 records...\n",
      "2024-04-27 20:31:19,118 [INFO] Inserting 10033 records...\n",
      "2024-04-27 20:31:19,309 [INFO] Inserting 10019 records...\n",
      "2024-04-27 20:31:19,498 [INFO] Inserting 9456 records...\n",
      "2024-04-27 20:31:19,579 [INFO] Creating index...\n",
      "2024-04-27 20:31:22,910 [INFO] Done.\n"
     ]
    }
   ],
   "source": [
    "hnsw_utils.save_hnsw_graph_to_db(ids, hnsw)     "
   ]
  },
  {
   "cell_type": "markdown",
   "metadata": {},
   "source": [
    "### Test using a calculated embedding"
   ]
  },
  {
   "cell_type": "markdown",
   "metadata": {},
   "source": [
    "Get the embeddings"
   ]
  },
  {
   "cell_type": "code",
   "execution_count": null,
   "metadata": {},
   "outputs": [],
   "source": [
    "client = AzureOpenAI(\n",
    "    api_key=os.environ[\"OPENAI_KEY\"],  \n",
    "    api_version=\"2024-02-01\",\n",
    "    azure_endpoint = os.environ[\"OPENAI_ENDPOINT\"]\n",
    "    )"
   ]
  },
  {
   "cell_type": "code",
   "execution_count": null,
   "metadata": {},
   "outputs": [],
   "source": [
    "text = \"Pasta\"\n",
    "e = client.embeddings.create(input = [text], model=\"embeddings\").data[0].embedding"
   ]
  },
  {
   "cell_type": "code",
   "execution_count": null,
   "metadata": {},
   "outputs": [],
   "source": [
    "json.dumps(e)"
   ]
  },
  {
   "cell_type": "markdown",
   "metadata": {},
   "source": [
    "Find closest items along with their distances"
   ]
  },
  {
   "cell_type": "code",
   "execution_count": null,
   "metadata": {},
   "outputs": [],
   "source": [
    "qv = np.asarray([e]) \n",
    "dist, idx = index.search(qv, 10)\n",
    "r = dict(zip([str(ids[i]) for i in idx[0]], dist[0]))\n",
    "json.dumps(r, cls=hnsw_utils.NpEncoder)\n"
   ]
  }
 ],
 "metadata": {
  "kernelspec": {
   "display_name": "base",
   "language": "python",
   "name": "python3"
  },
  "language_info": {
   "codemirror_mode": {
    "name": "ipython",
    "version": 3
   },
   "file_extension": ".py",
   "mimetype": "text/x-python",
   "name": "python",
   "nbconvert_exporter": "python",
   "pygments_lexer": "ipython3",
   "version": "3.11.7"
  }
 },
 "nbformat": 4,
 "nbformat_minor": 2
}
