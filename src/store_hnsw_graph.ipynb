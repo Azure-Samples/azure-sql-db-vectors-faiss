{
 "cells": [
  {
   "cell_type": "code",
   "execution_count": 2,
   "metadata": {},
   "outputs": [],
   "source": [
    "import os\n",
    "import sys\n",
    "import pyodbc\n",
    "import logging\n",
    "import json\n",
    "import numpy as np\n",
    "import faiss\n",
    "from dotenv import load_dotenv\n",
    "from sqlext.utils import Buffer, VectorSet, NpEncoder \n",
    "from test import load_vectors_from_db, vector_to_array, get_hnsw_links"
   ]
  },
  {
   "cell_type": "code",
   "execution_count": 3,
   "metadata": {},
   "outputs": [
    {
     "data": {
      "text/plain": [
       "True"
      ]
     },
     "execution_count": 3,
     "metadata": {},
     "output_type": "execute_result"
    }
   ],
   "source": [
    "logging.basicConfig(\n",
    "    level=logging.INFO,\n",
    "    format=\"%(asctime)s [%(levelname)s] %(message)s\",\n",
    "    handlers=[logging.StreamHandler(sys.stdout)],\n",
    ")\n",
    "\n",
    "load_dotenv()"
   ]
  },
  {
   "cell_type": "code",
   "execution_count": 4,
   "metadata": {},
   "outputs": [
    {
     "name": "stdout",
     "output_type": "stream",
     "text": [
      "Driver={ODBC Driver 18 for SQL Server};Server=host.docker.internal;Database=wikipedia;Uid=vectordb_user;Pwd=StronGPassw0rd!;Encrypt=no;Connection Timeout=30;\n"
     ]
    }
   ],
   "source": [
    "print(os.environ[\"MSSQL\"])"
   ]
  },
  {
   "cell_type": "code",
   "execution_count": 5,
   "metadata": {},
   "outputs": [
    {
     "name": "stdout",
     "output_type": "stream",
     "text": [
      "2024-04-07 00:20:36,473 [INFO] Loaded 10000 rows, total rows 10000, total memory footprint 58 MB\n",
      "2024-04-07 00:20:56,979 [INFO] Loaded 10000 rows, total rows 20000, total memory footprint 117 MB\n",
      "2024-04-07 00:21:06,905 [INFO] Loaded 5000 rows, total rows 25000, total memory footprint 146 MB\n",
      "2024-04-07 00:21:07,004 [INFO] Done\n"
     ]
    }
   ],
   "source": [
    "ids, vectors = load_vectors_from_db()"
   ]
  },
  {
   "cell_type": "code",
   "execution_count": 6,
   "metadata": {},
   "outputs": [],
   "source": [
    "nvp = np.asarray(vectors)\n",
    "d = nvp.shape[1]\n",
    "index = faiss.index_factory(d, \"HNSW32\")    \n",
    "index.add(nvp)"
   ]
  },
  {
   "cell_type": "code",
   "execution_count": 30,
   "metadata": {},
   "outputs": [],
   "source": [
    "qp = np.where(ids == 3451)[0][0]\n",
    "qv = np.asarray([nvp[qp]])    \n",
    "dist, idx = index.search(qv, 10)"
   ]
  },
  {
   "cell_type": "code",
   "execution_count": 31,
   "metadata": {},
   "outputs": [
    {
     "data": {
      "text/plain": [
       "array([ 780,  294, 2241, 5761, 4717, 2833, 4546, 1760, 5054, 4574])"
      ]
     },
     "execution_count": 31,
     "metadata": {},
     "output_type": "execute_result"
    }
   ],
   "source": [
    "idx[0]"
   ]
  },
  {
   "cell_type": "code",
   "execution_count": 32,
   "metadata": {},
   "outputs": [
    {
     "data": {
      "text/plain": [
       "array([ 3451,   566,  7469, 18659, 14855,  8934, 14199,  5894, 15966,\n",
       "       14317])"
      ]
     },
     "execution_count": 32,
     "metadata": {},
     "output_type": "execute_result"
    }
   ],
   "source": [
    "ids[idx[0]]"
   ]
  },
  {
   "cell_type": "code",
   "execution_count": 10,
   "metadata": {},
   "outputs": [
    {
     "data": {
      "text/plain": [
       "(1, 4)"
      ]
     },
     "execution_count": 10,
     "metadata": {},
     "output_type": "execute_result"
    }
   ],
   "source": [
    "hnsw = index.hnsw\n",
    "levels = faiss.vector_to_array(hnsw.levels)\n",
    "lmin,lmax = levels.min(), levels.max()\n",
    "lmin,lmax"
   ]
  },
  {
   "cell_type": "code",
   "execution_count": 11,
   "metadata": {},
   "outputs": [
    {
     "data": {
      "text/plain": [
       "array([12586, 20288])"
      ]
     },
     "execution_count": 11,
     "metadata": {},
     "output_type": "execute_result"
    }
   ],
   "source": [
    "g = np.where(levels == 4)[0]\n",
    "g"
   ]
  },
  {
   "cell_type": "code",
   "execution_count": 12,
   "metadata": {},
   "outputs": [
    {
     "data": {
      "text/plain": [
       "array([46308, 77943])"
      ]
     },
     "execution_count": 12,
     "metadata": {},
     "output_type": "execute_result"
    }
   ],
   "source": [
    "ids[[v for v in g if v != -1]]"
   ]
  },
  {
   "cell_type": "code",
   "execution_count": 17,
   "metadata": {},
   "outputs": [],
   "source": [
    "conn = pyodbc.connect(os.environ[\"MSSQL\"]) \n",
    "\n",
    "for i in range(len(ids)):\n",
    "    # vector id\n",
    "    id = ids[i]\n",
    "\n",
    "    # get neighbors\n",
    "    #logging.info(f'Processing vector {i} -> {id}')\n",
    "    neighbors = get_hnsw_links(hnsw, i)\n",
    "\n",
    "    for lidx, nl in enumerate(neighbors):\n",
    "        \n",
    "        # get vector ids of neighbors\n",
    "        nl_ids = ids[[v for v in nl if v != -1]]\n",
    "\n",
    "        #logging.info(f'   Processing neighbors level {lidx} (n:{len(nl_ids)})') \n",
    "\n",
    "        # insert into database\n",
    "        params = [(int(id), int(nv_id), lidx) for nv_id in nl_ids]\n",
    "\n",
    "        cursor = conn.cursor()  \n",
    "        cursor.fast_executemany = True    \n",
    "\n",
    "        cursor.executemany(f'INSERT INTO [$vector].faiss_hnsw (id, id_neighbor, l) VALUES (?, ?, ?)', params)\n",
    "\n",
    "        cursor.commit()\n",
    "\n",
    "conn.close()       "
   ]
  }
 ],
 "metadata": {
  "kernelspec": {
   "display_name": "base",
   "language": "python",
   "name": "python3"
  },
  "language_info": {
   "codemirror_mode": {
    "name": "ipython",
    "version": 3
   },
   "file_extension": ".py",
   "mimetype": "text/x-python",
   "name": "python",
   "nbconvert_exporter": "python",
   "pygments_lexer": "ipython3",
   "version": "3.11.7"
  }
 },
 "nbformat": 4,
 "nbformat_minor": 2
}
