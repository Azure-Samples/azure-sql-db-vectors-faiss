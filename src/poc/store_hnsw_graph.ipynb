{
 "cells": [
  {
   "cell_type": "markdown",
   "metadata": {},
   "source": [
    "### Initialize poc"
   ]
  },
  {
   "cell_type": "code",
   "execution_count": 46,
   "metadata": {},
   "outputs": [
    {
     "data": {
      "text/plain": [
       "True"
      ]
     },
     "execution_count": 46,
     "metadata": {},
     "output_type": "execute_result"
    }
   ],
   "source": [
    "import os\n",
    "import sys\n",
    "import logging\n",
    "import numpy as np\n",
    "import faiss\n",
    "from dotenv import load_dotenv\n",
    "import hnsw_utils \n",
    "logging.basicConfig(\n",
    "    level=logging.INFO,\n",
    "    format=\"%(asctime)s [%(levelname)s] %(message)s\",\n",
    "    handlers=[logging.StreamHandler(sys.stdout)],\n",
    ")\n",
    "load_dotenv()"
   ]
  },
  {
   "cell_type": "markdown",
   "metadata": {},
   "source": [
    "### Load vectors from database"
   ]
  },
  {
   "cell_type": "code",
   "execution_count": 47,
   "metadata": {},
   "outputs": [
    {
     "name": "stdout",
     "output_type": "stream",
     "text": [
      "2024-04-08 01:34:41,268 [INFO] Loaded 10000 rows, total rows 10000, total memory footprint 58 MB\n",
      "2024-04-08 01:34:55,070 [INFO] Loaded 10000 rows, total rows 20000, total memory footprint 117 MB\n",
      "2024-04-08 01:35:02,208 [INFO] Loaded 5000 rows, total rows 25000, total memory footprint 146 MB\n",
      "2024-04-08 01:35:02,273 [INFO] Done\n"
     ]
    }
   ],
   "source": [
    "ids, vectors = hnsw_utils.load_vectors_from_db()"
   ]
  },
  {
   "cell_type": "markdown",
   "metadata": {},
   "source": [
    "### Create index"
   ]
  },
  {
   "cell_type": "code",
   "execution_count": 48,
   "metadata": {},
   "outputs": [],
   "source": [
    "nvp = np.asarray(vectors)\n",
    "d = nvp.shape[1]\n",
    "index = faiss.index_factory(d, \"HNSW32\")    \n",
    "index.add(nvp)"
   ]
  },
  {
   "cell_type": "markdown",
   "metadata": {},
   "source": [
    "### Test the index\n",
    "\n",
    "Use a reference vector to search for the nearest neighbors"
   ]
  },
  {
   "cell_type": "code",
   "execution_count": 49,
   "metadata": {},
   "outputs": [],
   "source": [
    "qp = np.where(ids == 11193)[0][0]\n",
    "qv = np.asarray([nvp[qp]])    \n",
    "dist, idx = index.search(qv, 10)\n",
    "hnsw = index.hnsw"
   ]
  },
  {
   "cell_type": "markdown",
   "metadata": {},
   "source": [
    "List vectors (by their internal id) that are close to the reference vector"
   ]
  },
  {
   "cell_type": "code",
   "execution_count": 50,
   "metadata": {},
   "outputs": [
    {
     "data": {
      "text/plain": [
       "array([ 3692, 20306,  7434,  3426,  2162, 16764,  6720, 10448,  3591,\n",
       "        3706])"
      ]
     },
     "execution_count": 50,
     "metadata": {},
     "output_type": "execute_result"
    }
   ],
   "source": [
    "idx[0]"
   ]
  },
  {
   "cell_type": "markdown",
   "metadata": {},
   "source": [
    "List vectors by their *database* ids"
   ]
  },
  {
   "cell_type": "code",
   "execution_count": 51,
   "metadata": {},
   "outputs": [
    {
     "data": {
      "text/plain": [
       "array([11193, 78034, 23984, 10193,  7342, 63964, 21230, 37075, 10915,\n",
       "       11219])"
      ]
     },
     "execution_count": 51,
     "metadata": {},
     "output_type": "execute_result"
    }
   ],
   "source": [
    "ids[idx[0]]"
   ]
  },
  {
   "cell_type": "markdown",
   "metadata": {},
   "source": [
    "Return max graph level"
   ]
  },
  {
   "cell_type": "code",
   "execution_count": 52,
   "metadata": {},
   "outputs": [
    {
     "data": {
      "text/plain": [
       "4"
      ]
     },
     "execution_count": 52,
     "metadata": {},
     "output_type": "execute_result"
    }
   ],
   "source": [
    "levels = faiss.vector_to_array(hnsw.levels)\n",
    "levels.max()"
   ]
  },
  {
   "cell_type": "markdown",
   "metadata": {},
   "source": [
    "Show content (as vector internal ids) of a specific graph level"
   ]
  },
  {
   "cell_type": "code",
   "execution_count": 53,
   "metadata": {},
   "outputs": [
    {
     "data": {
      "text/plain": [
       "array([12586, 20288])"
      ]
     },
     "execution_count": 53,
     "metadata": {},
     "output_type": "execute_result"
    }
   ],
   "source": [
    "g = np.where(levels == 4)[0]\n",
    "g"
   ]
  },
  {
   "cell_type": "markdown",
   "metadata": {},
   "source": [
    "Show database ids of vectors in a specific graph level"
   ]
  },
  {
   "cell_type": "code",
   "execution_count": 54,
   "metadata": {},
   "outputs": [
    {
     "data": {
      "text/plain": [
       "array([46308, 77943])"
      ]
     },
     "execution_count": 54,
     "metadata": {},
     "output_type": "execute_result"
    }
   ],
   "source": [
    "ids[[v for v in g if v != -1]]"
   ]
  },
  {
   "cell_type": "markdown",
   "metadata": {},
   "source": [
    "Show all the neighbors of a specific vector, at any level"
   ]
  },
  {
   "cell_type": "code",
   "execution_count": 55,
   "metadata": {},
   "outputs": [
    {
     "data": {
      "text/plain": [
       "[array([ 6057, 17442,  6775, 24354, 21027, 22156, 12559, 21162, 16636,\n",
       "        15808, 22469,   595, 16570, 21038, 20929, 21858, 20919,  3038,\n",
       "         6704, 21035,  7736,   598, 11301, 24053, 23534, 16097, 23847,\n",
       "        17455, 14228, 23985, 23994, 20942, 22864, 21851, 15303, 22132,\n",
       "        22067, 10128,  2266,    -1,    -1,    -1,    -1,    -1,    -1,\n",
       "           -1,    -1,    -1,    -1,    -1,    -1,    -1,    -1,    -1,\n",
       "           -1,    -1,    -1,    -1,    -1,    -1,    -1,    -1,    -1,\n",
       "           -1], dtype=int32),\n",
       " array([20288, 13907,  9991, 23475,  9192, 23338, 13815, 20502,  6057,\n",
       "        24970,  1988,  7830,    -1,    -1,    -1,    -1,    -1,    -1,\n",
       "           -1,    -1,    -1,    -1,    -1,    -1,    -1,    -1,    -1,\n",
       "           -1,    -1,    -1,    -1,    -1], dtype=int32),\n",
       " array([20288,   592,  3913,  8169, 23593,  3123, 11537,  5033, 10189,\n",
       "        18411, 20513, 22509,  1751,  8947, 13212, 19782, 24582, 11548,\n",
       "           -1,    -1,    -1,    -1,    -1,    -1,    -1,    -1,    -1,\n",
       "           -1,    -1,    -1,    -1,    -1], dtype=int32),\n",
       " array([20288,    -1,    -1,    -1,    -1,    -1,    -1,    -1,    -1,\n",
       "           -1,    -1,    -1,    -1,    -1,    -1,    -1,    -1,    -1,\n",
       "           -1,    -1,    -1,    -1,    -1,    -1,    -1,    -1,    -1,\n",
       "           -1,    -1,    -1,    -1,    -1], dtype=int32)]"
      ]
     },
     "execution_count": 55,
     "metadata": {},
     "output_type": "execute_result"
    }
   ],
   "source": [
    "neighbors = hnsw_utils.get_hnsw_links(hnsw, 12586)\n",
    "neighbors"
   ]
  },
  {
   "cell_type": "markdown",
   "metadata": {},
   "source": [
    "Save graph back to the database"
   ]
  },
  {
   "cell_type": "code",
   "execution_count": null,
   "metadata": {},
   "outputs": [],
   "source": [
    "hnsw_utils.save_hnsw_graph(ids, hnsw)     "
   ]
  }
 ],
 "metadata": {
  "kernelspec": {
   "display_name": "base",
   "language": "python",
   "name": "python3"
  },
  "language_info": {
   "codemirror_mode": {
    "name": "ipython",
    "version": 3
   },
   "file_extension": ".py",
   "mimetype": "text/x-python",
   "name": "python",
   "nbconvert_exporter": "python",
   "pygments_lexer": "ipython3",
   "version": "3.11.7"
  }
 },
 "nbformat": 4,
 "nbformat_minor": 2
}
